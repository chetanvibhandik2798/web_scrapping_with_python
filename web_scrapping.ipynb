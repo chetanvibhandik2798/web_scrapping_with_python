{
 "cells": [
  {
   "cell_type": "code",
   "execution_count": 178,
   "id": "6ed1af7e",
   "metadata": {},
   "outputs": [],
   "source": [
    "from bs4 import BeautifulSoup as bs\n",
    "import requests\n",
    "import pandas as pd"
   ]
  },
  {
   "cell_type": "code",
   "execution_count": 179,
   "id": "a396a2d7",
   "metadata": {},
   "outputs": [],
   "source": [
    "link = \"https://in.indeed.com/cmp/Deloitte/reviews\""
   ]
  },
  {
   "cell_type": "code",
   "execution_count": 180,
   "id": "8b78bfa8",
   "metadata": {},
   "outputs": [],
   "source": [
    "headers = {'user-agent': 'Mozilla/5.0 (Windows NT 10.0; WOW64) AppleWebKit/537.36 (KHTML, like Gecko) Chrome/108.0.0.0 Safari/537.36'}"
   ]
  },
  {
   "cell_type": "code",
   "execution_count": 181,
   "id": "27040888",
   "metadata": {},
   "outputs": [],
   "source": [
    "page  = requests.get(link , headers = headers)"
   ]
  },
  {
   "cell_type": "code",
   "execution_count": 182,
   "id": "1081c758",
   "metadata": {},
   "outputs": [
    {
     "name": "stdout",
     "output_type": "stream",
     "text": [
      "<Response [403]>\n"
     ]
    }
   ],
   "source": [
    "print(page)"
   ]
  },
  {
   "cell_type": "code",
   "execution_count": 183,
   "id": "851a53ca",
   "metadata": {},
   "outputs": [],
   "source": [
    "soup = bs(page.content,'html.parser')"
   ]
  },
  {
   "cell_type": "code",
   "execution_count": 184,
   "id": "8f3fd161",
   "metadata": {},
   "outputs": [
    {
     "name": "stdout",
     "output_type": "stream",
     "text": [
      "<!DOCTYPE html>\n",
      "\n",
      "<html lang=\"en-US\">\n",
      "<head>\n",
      "<title>Just a moment...</title>\n",
      "<meta content=\"text/html; charset=utf-8\" http-equiv=\"Content-Type\"/>\n",
      "<meta content=\"IE=Edge\" http-equiv=\"X-UA-Compatible\"/>\n",
      "<meta content=\"noindex,nofollow\" name=\"robots\"/>\n",
      "<meta content=\"width=device-width,initial-scale=1\" name=\"viewport\"/>\n",
      "<link href=\"/cdn-cgi/styles/challenges.css\" rel=\"stylesheet\"/>\n",
      "</head>\n",
      "<body class=\"no-js\">\n",
      "<div class=\"main-wrapper\" role=\"main\">\n",
      "<div class=\"main-content\">\n",
      "<h1 class=\"zone-name-title h1\">\n",
      "<img class=\"heading-favicon\" onerror=\"this.onerror=null;this.parentNode.removeChild(this)\" src=\"/favicon.ico\"/>\n",
      "            in.indeed.com\n",
      "        </h1>\n",
      "<h2 class=\"h2\" id=\"challenge-running\">\n",
      "            Checking if the site connection is secure\n",
      "        </h2>\n",
      "<noscript>\n",
      "<div id=\"challenge-error-title\">\n",
      "<div class=\"h2\">\n",
      "<span class=\"icon-wrapper\">\n",
      "<div class=\"heading-icon warning-icon\"></div>\n",
      "</span>\n",
      "<span id=\"challenge-error-text\">\n",
      "                        Enable JavaScript and cookies to continue\n",
      "                    </span>\n",
      "</div>\n",
      "</div>\n",
      "</noscript>\n",
      "<div id=\"trk_jschal_js\" style=\"display:none;background-image:url('/cdn-cgi/images/trace/managed/nojs/transparent.gif?ray=786789adeaf1f480')\"></div>\n",
      "<div class=\"core-msg spacer\" id=\"challenge-body-text\">\n",
      "            in.indeed.com needs to review the security of your connection before proceeding.\n",
      "        </div>\n",
      "<form action=\"/cmp/Deloitte/reviews?__cf_chl_f_tk=5_3wZY76vBvsnmEFaYhf2Nl0YajSRgTJeDFv..mvwcI-1673208219-0-gaNycGzNB6U\" enctype=\"application/x-www-form-urlencoded\" id=\"challenge-form\" method=\"POST\">\n",
      "<input name=\"md\" type=\"hidden\" value=\"4SRTun6eLPle2__bfIhuJbZau4uyFbrGBF2ZjaOJoR0-1673208219-0-AZ3uGLg_dxLjkJJrYRKw-lyNqqJq7LVN3S_NFSNGwpKGZXVnfm9LaM3-0CJMim5X6cqDzxUweX0XyKWp-EeOGCfbVHe0y0--kmU4n6a7NXPZukYguSLsT_kRiMLnOHvTzQN9D7VhS8veqzl2qSCcyWU-fSMHlY2Xov068YazWjRDC2gBzBn__l1qLPBIL2JWph7YKGzUKs4g3inV9FFSdDMr82o_SjIfLjWGRc_YIf8S70SaKQn6YiLBhHAXJBlPsTeHA_GWd7NT8GsciqhSNDwMjvCAeDAz-n2H6QqL0RyYsalWECk3OsEQSP-SgEDQSlhqk4kcnpCLj71W36qsrP0kKQ9DA6fv3M_ShZbDvwR7ZogBTEBAzQvXOz_beb7H8V8oPLL2y8FMkn3UN7UJ5MpDNS3Jj123WSAjwi51vdVVgHUsnkr4itck0ogWjRzTFLX7YTqtWND7EM9JKNwgUIyQxOJOTPk-w2w2Iwx43H-yXo-7aaPAv2UjUcRwX427zDOGXjw6gg91Vyi8XNOAGIphHaq1CFRePjENALcRJr6s\"/>\n",
      "<input name=\"r\" type=\"hidden\" value=\"2VmO3W4EtAOCdFqyEVBYHRL8uwzf6xSZcUMLRPDWx3M-1673208219-0-AUfah/Ml5AfzwzhCoH9RIEwYm624EGRqkdXypCCTpmUstVOV/HPyZv3U9lpbijARi/HHsuE0OkvNelbYyTMD3Uttc4yoP+iLj4YCQ0hrWo7ziWvaR2rZDST3oY/REUJ3yrgVdyvgAl5O8aZ7Mu82EC7VvzG1l3mfjGARyw/VyQNju5xXZWn2pkkiBHpPNZ4IVV1bnfYw7r6qkH7f5ubD6CFCuUkJopWdXXcjABkc9W1Mgl6/v8Xf1UB0gjb+qkx/YmSwETvqmyDrMP/rdMJoOBV6hKMwluvydFAQrv0R/nFgsEWLKO4HZ6kAEWhwyq52ttXphah5irSgwRQqjlpBFeIsl7a39wWQA2TNfa0pQbnSiSyVSZBXF1fvcVMB0e3XO+dyXp6uiXhMaFZ461Qv/3Uo499v0nxIL0XbIIE+/hayHRAYv42aYUU1C7SKWgaKsj7Q6tj+LrWxxIrzdl0nN+cIwuW1o0M0xQdPJuZgNe+b9q4Rh3SWv6ewyX6cXwFpbTlkoU6ytPZvnoDvh2aBeDg2ctatoBxONB8cAKFN7ov3x6Xvd4Y0izTmpdB27Co5UxFCaIm22DyPSExxf62d6rB0fCfJX0ybvK1pxQdFrW1jGqg3iNhbYx1KGrFDld5im1tH+oM8/IPgk0637tyLZZy2J1zqfp9aaG1gdr69n7rFLMIWLbmbf/+JnTu/oGpQgw/SYVOj0zgC5hubYkUnHcOvS2leovw7cXyPrnrKoCspZxygT2eAny+pkmx20D0fTO62G5O3YsHNWbltDYxhorCZcu2LwjK/chC/ubSzGVU5nldM+qyeZeHq58kZHDUUFRi8ZW2YNVcAE7mne97pV7vrPEMYoE6Mjp7KMfNrGTV8or8ZDykGdhf+d5hT7B3b+sbKhG2KZGwKK+iC8KUhb3gDTKNAOHWBYQAnI8SJrdNtLOfnDUyFZ8Bak4BHC+fKvidTgifJuUsz9ZskmMiPHnSR8CwoEK4+RfJr9BXUaMr5iyUCltRqG2OSiwVoNmekZGQdjFn1PnMeUF7+FRZ/vaHyg+KKcrAqOg3rbzW9bxA/kzX2hZXE+x/4AZ7aiv1/4n3VhYWptXQP6AuUgfRrhRfwGM+B14ke/D5oNUZgsPuOAIVu6VllGpZBym/dbBuvUWrFxRovLT8eRA0mY+Q0ImJTxES21MbsWeEgBqCuqQftnk1dXiB/UJdTNe8Cktfz7zjqNwJJHMs8hzRo+ryNsZb1SmeHQ7siXloiReuNAOsHRxup8PCLaSJlZ2qv2jMdxhzvEq81DDPhMDwOGatqRXSPm36ap421+OY/pHrFQUP/XRaCoLJLFx1C16iJZy/RzPCsm4YB574CNWTsW4LeuWWi8ZCpKm65+OWTxrk2Ip55PHvO8DkkqKenF1eCwAgqzAY6GoTA2mym6xAHnIiZ4yFionOkFU2edRk18XwnlJO9fXUMTNQ2/UUgDLwmkFNxoW+PYXguoP/ouEGPcgg6FxCb31MaFwfET5pApTRXj2IjfodUILSwRQgB1PIvHyLHhTvCgynaZXjDZi4lrlQfcJxAjr30+X1XWKZUNRegGQ7Gm5DZDBZ7sSKVmOMu/FSSQ5A9SdxFnSIwOPlE2KNrSG/qcivRFkTHwXi9pxS1CFV5CHV6xKsGRIvvQKAm8OmrN7DI6cTyB2kcaliKJXjEZ40BJIygDqQxzJAZinGp5UAfTNmaMlbu8e0btPwN8PlKAWOvMp9VYauE053V4umpp8N9szBSHwqKUKdKZ9f6rgycAO0vJVHEG3ugYEugc/0uajqv5MhS8BuoB7XlYh9WLvA4u9RT0cKDAYOzFVtD92TEdDF03ORm1tBGiWlTK3SYRGZmpYLJsFEJr7jJ15a0jLEfsM/Bvn28g39lUvHopvKe\"/>\n",
      "</form>\n",
      "</div>\n",
      "</div>\n",
      "<script>\n",
      "    (function(){\n",
      "        window._cf_chl_opt={\n",
      "            cvId: '2',\n",
      "            cType: 'managed',\n",
      "            cNounce: '55540',\n",
      "            cRay: '786789adeaf1f480',\n",
      "            cHash: 'd9fbf5fb09cb96c',\n",
      "            cUPMDTk: \"\\/cmp\\/Deloitte\\/reviews?__cf_chl_tk=5_3wZY76vBvsnmEFaYhf2Nl0YajSRgTJeDFv..mvwcI-1673208219-0-gaNycGzNB6U\",\n",
      "            cFPWv: 'b',\n",
      "            cTTimeMs: '1000',\n",
      "            cTplV: 4,\n",
      "            cTplB: 'cf',\n",
      "            cRq: {\n",
      "                ru: 'aHR0cHM6Ly9pbi5pbmRlZWQuY29tL2NtcC9EZWxvaXR0ZS9yZXZpZXdz',\n",
      "                ra: 'TW96aWxsYS81LjAgKFdpbmRvd3MgTlQgMTAuMDsgV09XNjQpIEFwcGxlV2ViS2l0LzUzNy4zNiAoS0hUTUwsIGxpa2UgR2Vja28pIENocm9tZS8xMDguMC4wLjAgU2FmYXJpLzUzNy4zNg==',\n",
      "                rm: 'R0VU',\n",
      "                d: 'BLRWftUv3oLHggcuplgjcAATjBFLn9KVbFcZfNLoI9AGKuBC6JMk5GdMBbY4oW5+5rtp1NGjnI8yCgRephnDfHcFWq9Y3xnSMUHRWVeh1p/Fj3W9cLDQhyLLF7wcete1MhfLdZ/XsiNjP1bMgpMkjbmN1wsBtrVYaJPi2mCFTYOFoMxxVXVltLuFmLhjT1WP+2Eyi13ew+RPPrVzoGHxVG7E3EFFMkXrIMpyRBf6eGI9pCIo3IBsoq+3JzYtSpF5deRy+pUpKgoy6vu6s8CwYQqONsWs4fvxy7OPXYkb8yjyzZPQHykLU9APj7IyfQ8F3nm5Zk70bOHYH+nvTmmtdDoHNzXHiaZ78OZyc5w67KVnlRC+MG5eAf0ctzbMFrK/qKzmzFvKiJsGViap4pZadR/N34ZShxMfVaq3tcph82ZJAPYiU6EXYl11zcTEu/2DF1wdtYvKt9cl8PYyFfUthTXoRf3I64Uvpju3ZzCgkV+JyKJGTQqgphfDp8PcU3VATe7w944V17T7LoWVcYKh1NGAWTtOf+NQF7Uyhh3UZRARw7wVpZ/XPaY86u4YCB6O2+fvM6Zzj5zMk7L+gylCiNF5oldVGQhKOYuGtnBWMfG7Ph9goiabAdEVZscfhjCCOxxq7CSwVFtwu5hwwTZQED4JhzbbjLzwSbcgcaix1r8=',\n",
      "                t: 'MTY3MzIwODIxOS44MzQwMDA=',\n",
      "                m: 'EAvGA5VBHTeA1xavi7hKWLuanNLGUki1KPGAMKOhSG0=',\n",
      "                i1: 'bKzUCylF21eM/2wbOBCYtw==',\n",
      "                i2: '+PlJY4EkflCbHU+AWHHsJw==',\n",
      "                zh: '2kfjrLYfAVNem19Lin3oP+VKo7ladb55se1eVtiLLnQ=',\n",
      "                uh: 'EoMCQM8qURxJpLGZv7jWbUymOJXrrNK9vfKZaCMvIaM=',\n",
      "                hh: 'kUYHEl0zk3i+74OOEWwmnbBoUjF7XhVtDyrwHPwh8do=',\n",
      "            }\n",
      "        };\n",
      "        var trkjs = document.createElement('img');\n",
      "        trkjs.setAttribute('src', '/cdn-cgi/images/trace/managed/js/transparent.gif?ray=786789adeaf1f480');\n",
      "        trkjs.setAttribute('style', 'display: none');\n",
      "        document.body.appendChild(trkjs);\n",
      "        var cpo = document.createElement('script');\n",
      "        cpo.src = '/cdn-cgi/challenge-platform/h/b/orchestrate/managed/v1?ray=786789adeaf1f480';\n",
      "        window._cf_chl_opt.cOgUHash = location.hash === '' && location.href.indexOf('#') !== -1 ? '#' : location.hash;\n",
      "        window._cf_chl_opt.cOgUQuery = location.search === '' && location.href.slice(0, -window._cf_chl_opt.cOgUHash.length).indexOf('?') !== -1 ? '?' : location.search;\n",
      "        if (window.history && window.history.replaceState) {\n",
      "            var ogU = location.pathname + window._cf_chl_opt.cOgUQuery + window._cf_chl_opt.cOgUHash;\n",
      "            history.replaceState(null, null, \"\\/cmp\\/Deloitte\\/reviews?__cf_chl_rt_tk=5_3wZY76vBvsnmEFaYhf2Nl0YajSRgTJeDFv..mvwcI-1673208219-0-gaNycGzNB6U\" + window._cf_chl_opt.cOgUHash);\n",
      "            cpo.onload = function() {\n",
      "                history.replaceState(null, null, ogU);\n",
      "            };\n",
      "        }\n",
      "        document.getElementsByTagName('head')[0].appendChild(cpo);\n",
      "    }());\n",
      "</script>\n",
      "<div class=\"footer\" role=\"contentinfo\">\n",
      "<div class=\"footer-inner\">\n",
      "<div class=\"clearfix diagnostic-wrapper\">\n",
      "<div class=\"ray-id\">Ray ID: <code>786789adeaf1f480</code></div>\n",
      "</div>\n",
      "<div class=\"text-center\">Performance &amp; security by <a href=\"https://www.cloudflare.com?utm_source=challenge&amp;utm_campaign=m\" rel=\"noopener noreferrer\" target=\"_blank\">Cloudflare</a></div>\n",
      "</div>\n",
      "</div>\n",
      "</body>\n",
      "</html>\n",
      "\n"
     ]
    }
   ],
   "source": [
    "print(soup)"
   ]
  },
  {
   "cell_type": "code",
   "execution_count": 188,
   "id": "8c689e3c",
   "metadata": {},
   "outputs": [
    {
     "name": "stdout",
     "output_type": "stream",
     "text": [
      "[]\n",
      "[<div class=\"head\">How to Create a BarChart in Android using Kotlin</div>, <div class=\"head\">How much Python is required to become a Data Analyst</div>, <div class=\"head\">5 things I wish I knew as an Android Developer</div>, <div class=\"head\">Make a Resolution with GeeksforGeeks | 7th - 10th Jan</div>, <div class=\"head\">Building a 1000+ Cr Startup</div>, <div class=\"head\">C, C++, Java or Python. Which is Best for College Placements?</div>, <div class=\"head\">Best Way to Master Spring Boot - Complete Roadmap 2023</div>, <div class=\"head\">Python program to count number of connected components in an undirected graph</div>, <div class=\"head\">What is Moonlighting? Is it legal?</div>, <div class=\"head\">How to Fix 'Could not find or Load main class error' in Java?</div>, <div class=\"head\"><a href=\"https://www.geeksforgeeks.org/global-logic-interview-experience-on-campus-2022-2023/\" rel=\"bookmark\" title=\"Permalink to Global Logic Interview Experience (On-Campus) 2022-2023\">Global Logic Interview Experience (On-Campus) 2022-2023</a></div>, <div class=\"head\"><a href=\"https://www.geeksforgeeks.org/capgemini-interview-experience-on-campus-2023-2/\" rel=\"bookmark\" title=\"Permalink to Capgemini Interview Experience (On-Campus) 2023\">Capgemini Interview Experience (On-Campus) 2023</a></div>, <div class=\"head\"><a href=\"https://www.geeksforgeeks.org/amazon-wow-interview-experience-for-summer-internship/\" rel=\"bookmark\" title=\"Permalink to Amazon Wow Interview Experience for Summer Internship\">Amazon Wow Interview Experience for Summer Internship</a></div>, <div class=\"head\"><a href=\"https://www.geeksforgeeks.org/barclays-interview-experience-for-sde-experienced/\" rel=\"bookmark\" title=\"Permalink to Barclays Interview Experience for SDE experienced\">Barclays Interview Experience for SDE experienced</a></div>, <div class=\"head\"><a href=\"https://www.geeksforgeeks.org/cohesity-interview-experience-for-sre-on-campus-2/\" rel=\"bookmark\" title=\"Permalink to Cohesity Interview Experience for SRE (On-Campus)\">Cohesity Interview Experience for SRE (On-Campus)</a></div>, <div class=\"head\"><a href=\"https://www.geeksforgeeks.org/tcs-interview-experience-java-developer/\" rel=\"bookmark\" title=\"Permalink to TCS Interview Experience Java Developer\">TCS Interview Experience Java Developer</a></div>, <div class=\"head\"><a href=\"https://www.geeksforgeeks.org/cbse-class-12-economics-solved-question-paper-2020-set-1/\" rel=\"bookmark\" title=\"Permalink to CBSE Class 12 Economics Solved Question Paper 2020 – Set 1\">CBSE Class 12 Economics Solved Question Paper 2020 – Set 1</a></div>, <div class=\"head\"><a href=\"https://www.geeksforgeeks.org/concatenation-of-two-linked-lists-in-o1-time/\" rel=\"bookmark\" title=\"Permalink to Concatenation of two Linked lists in O(1) time\">Concatenation of two Linked lists in O(1) time</a></div>, <div class=\"head\"><a href=\"https://www.geeksforgeeks.org/a-is-admissible/\" rel=\"bookmark\" title=\"Permalink to A* is Admissible\">A* is Admissible</a></div>, <div class=\"head\"><a href=\"https://www.geeksforgeeks.org/what-is-difference-between-__sleep-and-__wakeup-in-php/\" rel=\"bookmark\" title=\"Permalink to What is difference between __sleep and __wakeup() in PHP ?\">What is difference between __sleep and __wakeup() in PHP ?</a></div>, <div class=\"head\"><a href=\"https://www.geeksforgeeks.org/how-to-fetch-only-sections-of-specific-html-areas-from-an-external-page-using-ajax/\" rel=\"bookmark\" title=\"Permalink to How to fetch only sections of specific HTML areas from an external page using AJAX ?\">How to fetch only sections of specific HTML areas from an external page using AJAX ?</a></div>, <div class=\"head\"><a href=\"https://www.geeksforgeeks.org/different-methods-to-download-youtube-videos/\" rel=\"bookmark\" title=\"Permalink to How to Download YouTube Videos\">How to Download YouTube Videos</a></div>, <div class=\"head\"><a href=\"https://www.geeksforgeeks.org/angular-primeng-divider-styling/\" rel=\"bookmark\" title=\"Permalink to Angular PrimeNG Divider Styling\">Angular PrimeNG Divider Styling</a></div>, <div class=\"head\"><a href=\"https://www.geeksforgeeks.org/angular-primeng-accordion-styling/\" rel=\"bookmark\" title=\"Permalink to Angular PrimeNG Accordion Styling\">Angular PrimeNG Accordion Styling</a></div>, <div class=\"head\"><a href=\"https://www.geeksforgeeks.org/jqwidgets-jqxtreegrid-bindingcomplete-event/\" rel=\"bookmark\" title=\"Permalink to jQWidgets jqxTreeGrid bindingComplete Event\">jQWidgets jqxTreeGrid bindingComplete Event</a></div>, <div class=\"head\">DSA- Live Classes</div>, <div class=\"head\">System Design- Live Classes</div>, <div class=\"head\">Complete Data Science Program</div>]\n",
      "[<div class=\"head\">How to Create a BarChart in Android using Kotlin</div>, <div class=\"head\">How much Python is required to become a Data Analyst</div>, <div class=\"head\">5 things I wish I knew as an Android Developer</div>, <div class=\"head\">Make a Resolution with GeeksforGeeks | 7th - 10th Jan</div>, <div class=\"head\">Building a 1000+ Cr Startup</div>, <div class=\"head\">C, C++, Java or Python. Which is Best for College Placements?</div>, <div class=\"head\">Best Way to Master Spring Boot - Complete Roadmap 2023</div>, <div class=\"head\">Python program to count number of connected components in an undirected graph</div>, <div class=\"head\">What is Moonlighting? Is it legal?</div>, <div class=\"head\">How to Fix 'Could not find or Load main class error' in Java?</div>, <div class=\"head\"><a href=\"https://www.geeksforgeeks.org/mongoose-query-prototype-exists-api/\" rel=\"bookmark\" title=\"Permalink to Mongoose Query.prototype.exists() API\">Mongoose Query.prototype.exists() API</a></div>, <div class=\"head\"><a href=\"https://www.geeksforgeeks.org/mongoose-query-prototype-distinct-api/\" rel=\"bookmark\" title=\"Permalink to Mongoose Query.prototype.distinct() API\">Mongoose Query.prototype.distinct() API</a></div>, <div class=\"head\"><a href=\"https://www.geeksforgeeks.org/mongoose-query-prototype-deleteone-api/\" rel=\"bookmark\" title=\"Permalink to Mongoose Query.prototype.deleteOne() API\">Mongoose Query.prototype.deleteOne() API</a></div>, <div class=\"head\"><a href=\"https://www.geeksforgeeks.org/jqwidgets-jqxtreegrid-filter-event/\" rel=\"bookmark\" title=\"Permalink to jQWidgets jqxTreeGrid filter Event\">jQWidgets jqxTreeGrid filter Event</a></div>, <div class=\"head\"><a href=\"https://www.geeksforgeeks.org/mongoose-query-prototype-equals-api/\" rel=\"bookmark\" title=\"Permalink to Mongoose Query.prototype.equals() API\">Mongoose Query.prototype.equals() API</a></div>, <div class=\"head\"><a href=\"https://www.geeksforgeeks.org/jqwidgets-jqxtreegrid-isbindingcompleted-method/\" rel=\"bookmark\" title=\"Permalink to jQWidgets jqxTreeGrid isBindingCompleted() Method\">jQWidgets jqxTreeGrid isBindingCompleted() Method</a></div>, <div class=\"head\"><a href=\"https://www.geeksforgeeks.org/ember-js-promise-then-method/\" rel=\"bookmark\" title=\"Permalink to Ember.js Promise then() Method\">Ember.js Promise then() Method</a></div>, <div class=\"head\"><a href=\"https://www.geeksforgeeks.org/ember-js-promise-catch-method/\" rel=\"bookmark\" title=\"Permalink to Ember.js Promise catch() Method\">Ember.js Promise catch() Method</a></div>, <div class=\"head\"><a href=\"https://www.geeksforgeeks.org/jqwidgets-jqxdocking-importlayout-method/\" rel=\"bookmark\" title=\"Permalink to jQWidgets jqxDocking importLayout() Method\">jQWidgets jqxDocking importLayout() Method</a></div>, <div class=\"head\"><a href=\"https://www.geeksforgeeks.org/mongoose-query-prototype-updateone-api/\" rel=\"bookmark\" title=\"Permalink to Mongoose Query.prototype.updateOne() API\">Mongoose Query.prototype.updateOne() API</a></div>, <div class=\"head\"><a href=\"https://www.geeksforgeeks.org/react-mui-divider-display/\" rel=\"bookmark\" title=\"Permalink to React MUI Divider Display\">React MUI Divider Display</a></div>, <div class=\"head\"><a href=\"https://www.geeksforgeeks.org/difference-between-binary-search-tree-and-avl-tree/\" rel=\"bookmark\" title=\"Permalink to Difference between Binary Search Tree and AVL Tree\">Difference between Binary Search Tree and AVL Tree</a></div>, <div class=\"head\"><a href=\"https://www.geeksforgeeks.org/ui-design-process-everything-you-need-to-know/\" rel=\"bookmark\" title=\"Permalink to UI Design Process: Everything You Need to Know\">UI Design Process: Everything You Need to Know</a></div>, <div class=\"head\"><a href=\"https://www.geeksforgeeks.org/minimum-operations-to-make-sum-at-least-m-from-given-two-arrays/\" rel=\"bookmark\" title=\"Permalink to Minimum operations to make sum at least M from given two Arrays\">Minimum operations to make sum at least M from given two Arrays</a></div>, <div class=\"head\"><a href=\"https://www.geeksforgeeks.org/maximize-the-product-of-digits-by-incrementing-any-digit-x-times/\" rel=\"bookmark\" title=\"Permalink to Maximize the product of digits by incrementing any digit X times\">Maximize the product of digits by incrementing any digit X times</a></div>, <div class=\"head\">DSA- Live Classes</div>, <div class=\"head\">System Design- Live Classes</div>, <div class=\"head\">Complete Data Science Program</div>]\n"
     ]
    },
    {
     "name": "stdout",
     "output_type": "stream",
     "text": [
      "[<div class=\"head\">How to Create a BarChart in Android using Kotlin</div>, <div class=\"head\">How much Python is required to become a Data Analyst</div>, <div class=\"head\">5 things I wish I knew as an Android Developer</div>, <div class=\"head\">Make a Resolution with GeeksforGeeks | 7th - 10th Jan</div>, <div class=\"head\">Building a 1000+ Cr Startup</div>, <div class=\"head\">C, C++, Java or Python. Which is Best for College Placements?</div>, <div class=\"head\">Best Way to Master Spring Boot - Complete Roadmap 2023</div>, <div class=\"head\">Python program to count number of connected components in an undirected graph</div>, <div class=\"head\">What is Moonlighting? Is it legal?</div>, <div class=\"head\">How to Fix 'Could not find or Load main class error' in Java?</div>, <div class=\"head\"><a href=\"https://www.geeksforgeeks.org/count-possible-number-of-arrangements-of-characters-for-each-query/\" rel=\"bookmark\" title=\"Permalink to Count possible number of arrangements of characters for each query\">Count possible number of arrangements of characters for each query</a></div>, <div class=\"head\"><a href=\"https://www.geeksforgeeks.org/find-sum-of-all-fx-from-l-to-r/\" rel=\"bookmark\" title=\"Permalink to Find sum of all f(x) from L to R\">Find sum of all f(x) from L to R</a></div>, <div class=\"head\"><a href=\"https://www.geeksforgeeks.org/streamlit-extras-in-python/\" rel=\"bookmark\" title=\"Permalink to Streamlit Extras in Python\">Streamlit Extras in Python</a></div>, <div class=\"head\"><a href=\"https://www.geeksforgeeks.org/get-the-data-received-in-a-flask-request/\" rel=\"bookmark\" title=\"Permalink to Get the Data Received in a Flask request\">Get the Data Received in a Flask request</a></div>, <div class=\"head\"><a href=\"https://www.geeksforgeeks.org/add-user-and-display-current-username-in-flask/\" rel=\"bookmark\" title=\"Permalink to Add User and Display Current Username in Flask\">Add User and Display Current Username in Flask</a></div>, <div class=\"head\"><a href=\"https://www.geeksforgeeks.org/multi-value-query-parameters-with-flask/\" rel=\"bookmark\" title=\"Permalink to Multi-value Query Parameters with Flask\">Multi-value Query Parameters with Flask</a></div>, <div class=\"head\"><a href=\"https://www.geeksforgeeks.org/access-the-query-string-in-flask-routes/\" rel=\"bookmark\" title=\"Permalink to Access the Query String in Flask Routes\">Access the Query String in Flask Routes</a></div>, <div class=\"head\"><a href=\"https://www.geeksforgeeks.org/flask-login-without-database-python/\" rel=\"bookmark\" title=\"Permalink to Flask login without database – Python\">Flask login without database – Python</a></div>, <div class=\"head\"><a href=\"https://www.geeksforgeeks.org/creating-multipage-applications-using-streamlit/\" rel=\"bookmark\" title=\"Permalink to Creating Multipage Applications Using Streamlit\">Creating Multipage Applications Using Streamlit</a></div>, <div class=\"head\"><a href=\"https://www.geeksforgeeks.org/using-pointers-in-python-using-ctypes/\" rel=\"bookmark\" title=\"Permalink to Using Pointers in Python using ctypes\">Using Pointers in Python using ctypes</a></div>, <div class=\"head\"><a href=\"https://www.geeksforgeeks.org/plot-probability-distribution-function-in-r/\" rel=\"bookmark\" title=\"Permalink to Plot Probability Distribution Function in R\">Plot Probability Distribution Function in R</a></div>, <div class=\"head\"><a href=\"https://www.geeksforgeeks.org/manipulating-pandas-dataframe-using-mitosheet/\" rel=\"bookmark\" title=\"Permalink to Manipulating Pandas DataFrame using Mitosheet\">Manipulating Pandas DataFrame using Mitosheet</a></div>, <div class=\"head\"><a href=\"https://www.geeksforgeeks.org/long-short-term-memory-lstm-rnn-in-tensorflow/\" rel=\"bookmark\" title=\"Permalink to Long short-term memory (LSTM) RNN in Tensorflow\">Long short-term memory (LSTM) RNN in Tensorflow</a></div>, <div class=\"head\"><a href=\"https://www.geeksforgeeks.org/word-sense-disambiguation-in-natural-language-processing/\" rel=\"bookmark\" title=\"Permalink to Word Sense Disambiguation in Natural Language Processing\">Word Sense Disambiguation in Natural Language Processing</a></div>, <div class=\"head\"><a href=\"https://www.geeksforgeeks.org/time-series-and-forecasting-using-r/\" rel=\"bookmark\" title=\"Permalink to Time Series and Forecasting Using R\">Time Series and Forecasting Using R</a></div>, <div class=\"head\">DSA- Live Classes</div>, <div class=\"head\">System Design- Live Classes</div>, <div class=\"head\">Complete Data Science Program</div>]\n",
      "[<div class=\"head\">How to Create a BarChart in Android using Kotlin</div>, <div class=\"head\">How much Python is required to become a Data Analyst</div>, <div class=\"head\">5 things I wish I knew as an Android Developer</div>, <div class=\"head\">Make a Resolution with GeeksforGeeks | 7th - 10th Jan</div>, <div class=\"head\">Building a 1000+ Cr Startup</div>, <div class=\"head\">C, C++, Java or Python. Which is Best for College Placements?</div>, <div class=\"head\">Best Way to Master Spring Boot - Complete Roadmap 2023</div>, <div class=\"head\">Python program to count number of connected components in an undirected graph</div>, <div class=\"head\">What is Moonlighting? Is it legal?</div>, <div class=\"head\">How to Fix 'Could not find or Load main class error' in Java?</div>, <div class=\"head\"><a href=\"https://www.geeksforgeeks.org/top-10-string-methods-in-pandas/\" rel=\"bookmark\" title=\"Permalink to Top 10 String methods in Pandas\">Top 10 String methods in Pandas</a></div>, <div class=\"head\"><a href=\"https://www.geeksforgeeks.org/export-dataframes-to-multiple-excel-sheets-in-r/\" rel=\"bookmark\" title=\"Permalink to Export Dataframes to Multiple Excel Sheets in R\">Export Dataframes to Multiple Excel Sheets in R</a></div>, <div class=\"head\"><a href=\"https://www.geeksforgeeks.org/single-layer-perceptron-in-tensorflow/\" rel=\"bookmark\" title=\"Permalink to Single Layer Perceptron in TensorFlow\">Single Layer Perceptron in TensorFlow</a></div>, <div class=\"head\"><a href=\"https://www.geeksforgeeks.org/how-to-build-a-web-app-using-flask-and-sqlite-in-python/\" rel=\"bookmark\" title=\"Permalink to How to Build a Web App using Flask and SQLite in Python\">How to Build a Web App using Flask and SQLite in Python</a></div>, <div class=\"head\"><a href=\"https://www.geeksforgeeks.org/upload-and-read-excel-file-in-flask/\" rel=\"bookmark\" title=\"Permalink to Upload and Read Excel File in Flask\">Upload and Read Excel File in Flask</a></div>, <div class=\"head\"><a href=\"https://www.geeksforgeeks.org/bootstrap-5-grid-cards/\" rel=\"bookmark\" title=\"Permalink to Bootstrap 5 Grid Cards\">Bootstrap 5 Grid Cards</a></div>, <div class=\"head\"><a href=\"https://www.geeksforgeeks.org/bootstrap-5-modal-using-the-grid/\" rel=\"bookmark\" title=\"Permalink to Bootstrap 5 Modal Using the Grid\">Bootstrap 5 Modal Using the Grid</a></div>, <div class=\"head\"><a href=\"https://www.geeksforgeeks.org/bootstrap-5-dropdowns-split-button/\" rel=\"bookmark\" title=\"Permalink to Bootstrap 5 Dropdowns Split Button\">Bootstrap 5 Dropdowns Split Button</a></div>, <div class=\"head\"><a href=\"https://www.geeksforgeeks.org/bootstrap-5-popovers-using-function-with-popperconfig-options/\" rel=\"bookmark\" title=\"Permalink to Bootstrap 5 Popovers Using function with popperConfig Options\">Bootstrap 5 Popovers Using function with popperConfig Options</a></div>, <div class=\"head\"><a href=\"https://www.geeksforgeeks.org/bootstrap-5-checks-and-radios-checkbox-toggle-buttons/\" rel=\"bookmark\" title=\"Permalink to Bootstrap 5 Checks and radios Checkbox Toggle buttons\">Bootstrap 5 Checks and radios Checkbox Toggle buttons</a></div>, <div class=\"head\"><a href=\"https://www.geeksforgeeks.org/bootstrap-5-offcanvas-usage/\" rel=\"bookmark\" title=\"Permalink to Bootstrap 5 Offcanvas Usage\">Bootstrap 5 Offcanvas Usage</a></div>, <div class=\"head\"><a href=\"https://www.geeksforgeeks.org/best-linux-distros-that-programmers-can-choose/\" rel=\"bookmark\" title=\"Permalink to Best Linux Distros That Programmers Can Choose\">Best Linux Distros That Programmers Can Choose</a></div>, <div class=\"head\"><a href=\"https://www.geeksforgeeks.org/free-business-email-accounts/\" rel=\"bookmark\" title=\"Permalink to 10 Best Free Business Email Accounts [2023]\">10 Best Free Business Email Accounts [2023]</a></div>, <div class=\"head\"><a href=\"https://www.geeksforgeeks.org/important-days-in-february/\" rel=\"bookmark\" title=\"Permalink to Important days in February 2023\">Important days in February 2023</a></div>, <div class=\"head\"><a href=\"https://www.geeksforgeeks.org/high-vitamin-d-foods/\" rel=\"bookmark\" title=\"Permalink to Top 10 Foods High in Vitamin D\">Top 10 Foods High in Vitamin D</a></div>, <div class=\"head\">DSA- Live Classes</div>, <div class=\"head\">System Design- Live Classes</div>, <div class=\"head\">Complete Data Science Program</div>]\n"
     ]
    },
    {
     "name": "stdout",
     "output_type": "stream",
     "text": [
      "[<div class=\"head\">How to Create a BarChart in Android using Kotlin</div>, <div class=\"head\">How much Python is required to become a Data Analyst</div>, <div class=\"head\">5 things I wish I knew as an Android Developer</div>, <div class=\"head\">Make a Resolution with GeeksforGeeks | 7th - 10th Jan</div>, <div class=\"head\">Building a 1000+ Cr Startup</div>, <div class=\"head\">C, C++, Java or Python. Which is Best for College Placements?</div>, <div class=\"head\">Best Way to Master Spring Boot - Complete Roadmap 2023</div>, <div class=\"head\">Python program to count number of connected components in an undirected graph</div>, <div class=\"head\">What is Moonlighting? Is it legal?</div>, <div class=\"head\">How to Fix 'Could not find or Load main class error' in Java?</div>, <div class=\"head\"><a href=\"https://www.geeksforgeeks.org/thalassophobia/\" rel=\"bookmark\" title=\"Permalink to Thalassophobia: Symptoms, Causes and Treatment\">Thalassophobia: Symptoms, Causes and Treatment</a></div>, <div class=\"head\"><a href=\"https://www.geeksforgeeks.org/national-action-plan-for-children/\" rel=\"bookmark\" title=\"Permalink to National Action Plan For Children\">National Action Plan For Children</a></div>, <div class=\"head\"><a href=\"https://www.geeksforgeeks.org/eklavya-model-residential-school-emrs/\" rel=\"bookmark\" title=\"Permalink to Eklavya Model Residential School (EMRS)\">Eklavya Model Residential School (EMRS)</a></div>, <div class=\"head\"><a href=\"https://www.geeksforgeeks.org/interjections/\" rel=\"bookmark\" title=\"Permalink to Interjections – Definition, Types, Rules and Examples\">Interjections – Definition, Types, Rules and Examples</a></div>, <div class=\"head\"><a href=\"https://www.geeksforgeeks.org/buddy-testing-in-software-testing/\" rel=\"bookmark\" title=\"Permalink to Buddy Testing in Software Testing\">Buddy Testing in Software Testing</a></div>, <div class=\"head\"><a href=\"https://www.geeksforgeeks.org/chaincode-lifecycle-on-hyperledger-fabric/\" rel=\"bookmark\" title=\"Permalink to Chaincode Lifecycle on Hyperledger Fabric\">Chaincode Lifecycle on Hyperledger Fabric</a></div>, <div class=\"head\"><a href=\"https://www.geeksforgeeks.org/how-to-run-only-one-unit-test-class-using-gradle/\" rel=\"bookmark\" title=\"Permalink to How to Run Only One Unit Test Class Using Gradle?\">How to Run Only One Unit Test Class Using Gradle?</a></div>, <div class=\"head\"><a href=\"https://www.geeksforgeeks.org/10-advantages-and-disadvantages-of-cloud-storage/\" rel=\"bookmark\" title=\"Permalink to 10 Advantages and Disadvantages of Cloud Storage\">10 Advantages and Disadvantages of Cloud Storage</a></div>, <div class=\"head\"><a href=\"https://www.geeksforgeeks.org/what-is-software-tool/\" rel=\"bookmark\" title=\"Permalink to What is Software Tool?\">What is Software Tool?</a></div>, <div class=\"head\"><a href=\"https://www.geeksforgeeks.org/discrete-colour-scale-in-plotly-python/\" rel=\"bookmark\" title=\"Permalink to Discrete Colour Scale in Plotly Python\">Discrete Colour Scale in Plotly Python</a></div>, <div class=\"head\"><a href=\"https://www.geeksforgeeks.org/animated-choropleth-map-with-discrete-colors-using-python-plotly/\" rel=\"bookmark\" title=\"Permalink to Animated choropleth map with discrete colors using Python plotly\">Animated choropleth map with discrete colors using Python plotly</a></div>, <div class=\"head\"><a href=\"https://www.geeksforgeeks.org/power-bi-how-to-create-calculated-measures/\" rel=\"bookmark\" title=\"Permalink to Power BI – How to Create Calculated Measures?\">Power BI – How to Create Calculated Measures?</a></div>, <div class=\"head\"><a href=\"https://www.geeksforgeeks.org/udf-to-sort-list-in-pyspark/\" rel=\"bookmark\" title=\"Permalink to UDF to sort list in PySpark\">UDF to sort list in PySpark</a></div>, <div class=\"head\"><a href=\"https://www.geeksforgeeks.org/blind-source-separation-using-fastica-in-scikit-learn/\" rel=\"bookmark\" title=\"Permalink to Blind source separation using FastICA in Scikit Learn\">Blind source separation using FastICA in Scikit Learn</a></div>, <div class=\"head\"><a href=\"https://www.geeksforgeeks.org/shell-scripting-scheduling-commands/\" rel=\"bookmark\" title=\"Permalink to Shell Scripting – Scheduling Commands\">Shell Scripting – Scheduling Commands</a></div>, <div class=\"head\">DSA- Live Classes</div>, <div class=\"head\">System Design- Live Classes</div>, <div class=\"head\">Complete Data Science Program</div>]\n",
      "[<div class=\"head\">How to Create a BarChart in Android using Kotlin</div>, <div class=\"head\">How much Python is required to become a Data Analyst</div>, <div class=\"head\">5 things I wish I knew as an Android Developer</div>, <div class=\"head\">Make a Resolution with GeeksforGeeks | 7th - 10th Jan</div>, <div class=\"head\">Building a 1000+ Cr Startup</div>, <div class=\"head\">C, C++, Java or Python. Which is Best for College Placements?</div>, <div class=\"head\">Best Way to Master Spring Boot - Complete Roadmap 2023</div>, <div class=\"head\">Python program to count number of connected components in an undirected graph</div>, <div class=\"head\">What is Moonlighting? Is it legal?</div>, <div class=\"head\">How to Fix 'Could not find or Load main class error' in Java?</div>, <div class=\"head\"><a href=\"https://www.geeksforgeeks.org/create-plotly-express-charts-in-less-lines-of-code-using-python-and-datamallet/\" rel=\"bookmark\" title=\"Permalink to Create Plotly Express charts in less lines of code using Python and Datamallet\">Create Plotly Express charts in less lines of code using Python and Datamallet</a></div>, <div class=\"head\"><a href=\"https://www.geeksforgeeks.org/channel-bonding-nic-teaming-in-centos/\" rel=\"bookmark\" title=\"Permalink to Channel bonding (NIC Teaming) in CentOS\">Channel bonding (NIC Teaming) in CentOS</a></div>, <div class=\"head\"><a href=\"https://www.geeksforgeeks.org/machine-learning-model-evaluation/\" rel=\"bookmark\" title=\"Permalink to Machine Learning Model Evaluation\">Machine Learning Model Evaluation</a></div>, <div class=\"head\"><a href=\"https://www.geeksforgeeks.org/create-maptype-column-from-existing-columns-in-pyspark/\" rel=\"bookmark\" title=\"Permalink to Create MapType Column from Existing Columns in PySpark\">Create MapType Column from Existing Columns in PySpark</a></div>, <div class=\"head\"><a href=\"https://www.geeksforgeeks.org/power-bi-dax-information-functions/\" rel=\"bookmark\" title=\"Permalink to Power BI – DAX Information Functions\">Power BI – DAX Information Functions</a></div>, <div class=\"head\"><a href=\"https://www.geeksforgeeks.org/exodus-copy-linux-binaries-from-one-linux-system/\" rel=\"bookmark\" title=\"Permalink to Exodus – Copy Linux Binaries From One Linux System\">Exodus – Copy Linux Binaries From One Linux System</a></div>, <div class=\"head\"><a href=\"https://www.geeksforgeeks.org/a-versatile-system-backup-script-for-linux/\" rel=\"bookmark\" title=\"Permalink to A Versatile System Backup Script for Linux\">A Versatile System Backup Script for Linux</a></div>, <div class=\"head\"><a href=\"https://www.geeksforgeeks.org/how-to-setup-a-pxe-boot-server-with-nfs-on-centos/\" rel=\"bookmark\" title=\"Permalink to How to setup a PXE boot server with NFS on CentOS?\">How to setup a PXE boot server with NFS on CentOS?</a></div>, <div class=\"head\"><a href=\"https://www.geeksforgeeks.org/power-bi-differences-between-microsoft-power-bi-and-ssrs/\" rel=\"bookmark\" title=\"Permalink to Power BI – Differences Between Microsoft Power BI and SSRS\">Power BI – Differences Between Microsoft Power BI and SSRS</a></div>, <div class=\"head\"><a href=\"https://www.geeksforgeeks.org/how-to-setup-encrypted-filesystems-and-swap-space-using-cryptsetup-tool-in-linux/\" rel=\"bookmark\" title=\"Permalink to How to Setup Encrypted Filesystems and Swap Space Using ‘Cryptsetup’ Tool in Linux\">How to Setup Encrypted Filesystems and Swap Space Using ‘Cryptsetup’ Tool in Linux</a></div>, <div class=\"head\"><a href=\"https://www.geeksforgeeks.org/setting-up-standard-linux-file-systems-and-configuring-nfsv4-server/\" rel=\"bookmark\" title=\"Permalink to Setting Up Standard Linux File Systems and Configuring NFSv4 Server\">Setting Up Standard Linux File Systems and Configuring NFSv4 Server</a></div>, <div class=\"head\"><a href=\"https://www.geeksforgeeks.org/how-to-check-fibre-channel-hbas-in-linux/\" rel=\"bookmark\" title=\"Permalink to How to check Fibre Channel HBAs in Linux?\">How to check Fibre Channel HBAs in Linux?</a></div>, <div class=\"head\"><a href=\"https://www.geeksforgeeks.org/set-up-haproxy-as-a-load-balancer-for-nginx-on-centos/\" rel=\"bookmark\" title=\"Permalink to Set up HAProxy as a load balancer for Nginx on CentOS\">Set up HAProxy as a load balancer for Nginx on CentOS</a></div>, <div class=\"head\"><a href=\"https://www.geeksforgeeks.org/derivative-of-the-sigmoid-function/\" rel=\"bookmark\" title=\"Permalink to Derivative of the Sigmoid Function\">Derivative of the Sigmoid Function</a></div>, <div class=\"head\"><a href=\"https://www.geeksforgeeks.org/prior-and-posterior-gaussian-process-for-different-kernels-in-scikit-learn/\" rel=\"bookmark\" title=\"Permalink to Prior and Posterior Gaussian Process for Different kernels in Scikit Learn\">Prior and Posterior Gaussian Process for Different kernels in Scikit Learn</a></div>, <div class=\"head\">DSA- Live Classes</div>, <div class=\"head\">System Design- Live Classes</div>, <div class=\"head\">Complete Data Science Program</div>]\n"
     ]
    },
    {
     "name": "stdout",
     "output_type": "stream",
     "text": [
      "[<div class=\"head\">How to Create a BarChart in Android using Kotlin</div>, <div class=\"head\">How much Python is required to become a Data Analyst</div>, <div class=\"head\">5 things I wish I knew as an Android Developer</div>, <div class=\"head\">Make a Resolution with GeeksforGeeks | 7th - 10th Jan</div>, <div class=\"head\">Building a 1000+ Cr Startup</div>, <div class=\"head\">C, C++, Java or Python. Which is Best for College Placements?</div>, <div class=\"head\">Best Way to Master Spring Boot - Complete Roadmap 2023</div>, <div class=\"head\">Python program to count number of connected components in an undirected graph</div>, <div class=\"head\">What is Moonlighting? Is it legal?</div>, <div class=\"head\">How to Fix 'Could not find or Load main class error' in Java?</div>, <div class=\"head\"><a href=\"https://www.geeksforgeeks.org/what-is-the-subject-of-a-sentence/\" rel=\"bookmark\" title=\"Permalink to What is Subject? – Definition, Use and Examples\">What is Subject? – Definition, Use and Examples</a></div>, <div class=\"head\"><a href=\"https://www.geeksforgeeks.org/gray-vs-grey/\" rel=\"bookmark\" title=\"Permalink to ‘Gray’ vs. ‘Grey’- Why is Grey Spelled Two Ways?\">‘Gray’ vs. ‘Grey’- Why is Grey Spelled Two Ways?</a></div>, <div class=\"head\"><a href=\"https://www.geeksforgeeks.org/common-noun/\" rel=\"bookmark\" title=\"Permalink to Common Noun: Definition, Examples, List &amp; Usage\">Common Noun: Definition, Examples, List &amp; Usage</a></div>, <div class=\"head\"><a href=\"https://www.geeksforgeeks.org/count-number-of-0s-with-given-conditions/\" rel=\"bookmark\" title=\"Permalink to Count number of 0’s with given conditions\">Count number of 0’s with given conditions</a></div>, <div class=\"head\"><a href=\"https://www.geeksforgeeks.org/autumnal-equinoxs/\" rel=\"bookmark\" title=\"Permalink to Autumnal Equinox: Definition, Dates &amp; Facts\">Autumnal Equinox: Definition, Dates &amp; Facts</a></div>, <div class=\"head\"><a href=\"https://www.geeksforgeeks.org/imperialism/\" rel=\"bookmark\" title=\"Permalink to Imperialism: Definition, History, Types, &amp; Examples\">Imperialism: Definition, History, Types, &amp; Examples</a></div>, <div class=\"head\"><a href=\"https://www.geeksforgeeks.org/foods-high-in-magnesium/\" rel=\"bookmark\" title=\"Permalink to 10 Magnesium-Rich Foods that are Super Healthy\">10 Magnesium-Rich Foods that are Super Healthy</a></div>, <div class=\"head\"><a href=\"https://www.geeksforgeeks.org/how-to-setup-tailwind-css-with-vite/\" rel=\"bookmark\" title=\"Permalink to How to setup Tailwind-CSS with Vite ?\">How to setup Tailwind-CSS with Vite ?</a></div>, <div class=\"head\"><a href=\"https://www.geeksforgeeks.org/cbse-business-studies-question-paper-2020-set-1/\" rel=\"bookmark\" title=\"Permalink to CBSE Class 12 Business Studies Solved Question Paper- 2020 Set 1\">CBSE Class 12 Business Studies Solved Question Paper- 2020 Set 1</a></div>, <div class=\"head\"><a href=\"https://www.geeksforgeeks.org/minimum-time-required-by-n-cars-to-travel-through-all-of-the-m-roads/\" rel=\"bookmark\" title=\"Permalink to Minimum time required by n cars to travel through all of the m roads\">Minimum time required by n cars to travel through all of the m roads</a></div>, <div class=\"head\"><a href=\"https://www.geeksforgeeks.org/accenture-interview-experience-on-campus-2023-4/\" rel=\"bookmark\" title=\"Permalink to Accenture Interview Experience (On-Campus) 2023\">Accenture Interview Experience (On-Campus) 2023</a></div>, <div class=\"head\"><a href=\"https://www.geeksforgeeks.org/vyn-automation-pvt-ltd-interview-experience-for-system-analyst/\" rel=\"bookmark\" title=\"Permalink to VYN Automation Pvt. Ltd. Interview Experience for System Analyst\">VYN Automation Pvt. Ltd. Interview Experience for System Analyst</a></div>, <div class=\"head\"><a href=\"https://www.geeksforgeeks.org/amazon-wow-interview-experience-6/\" rel=\"bookmark\" title=\"Permalink to Amazon WoW Interview Experience\">Amazon WoW Interview Experience</a></div>, <div class=\"head\"><a href=\"https://www.geeksforgeeks.org/atlantic-meridional-overturning-circulation-amoc/\" rel=\"bookmark\" title=\"Permalink to Atlantic Meridional Overturning Circulation (AMOC)\">Atlantic Meridional Overturning Circulation (AMOC)</a></div>, <div class=\"head\"><a href=\"https://www.geeksforgeeks.org/consumer-behavior-in-marketing/\" rel=\"bookmark\" title=\"Permalink to Customer Behavior for Marketing\">Customer Behavior for Marketing</a></div>, <div class=\"head\">DSA- Live Classes</div>, <div class=\"head\">System Design- Live Classes</div>, <div class=\"head\">Complete Data Science Program</div>]\n",
      "[<div class=\"head\">How to Create a BarChart in Android using Kotlin</div>, <div class=\"head\">How much Python is required to become a Data Analyst</div>, <div class=\"head\">5 things I wish I knew as an Android Developer</div>, <div class=\"head\">Make a Resolution with GeeksforGeeks | 7th - 10th Jan</div>, <div class=\"head\">Building a 1000+ Cr Startup</div>, <div class=\"head\">C, C++, Java or Python. Which is Best for College Placements?</div>, <div class=\"head\">Best Way to Master Spring Boot - Complete Roadmap 2023</div>, <div class=\"head\">Python program to count number of connected components in an undirected graph</div>, <div class=\"head\">What is Moonlighting? Is it legal?</div>, <div class=\"head\">How to Fix 'Could not find or Load main class error' in Java?</div>, <div class=\"head\"><a href=\"https://www.geeksforgeeks.org/visualize-the-flower-dataset-using-tensorflow-python/\" rel=\"bookmark\" title=\"Permalink to Visualize the Flower Dataset using Tensorflow – Python\">Visualize the Flower Dataset using Tensorflow – Python</a></div>, <div class=\"head\"><a href=\"https://www.geeksforgeeks.org/recognizing-handwritten-digits-in-scikit-learn/\" rel=\"bookmark\" title=\"Permalink to Recognizing HandWritten Digits in Scikit Learn\">Recognizing HandWritten Digits in Scikit Learn</a></div>, <div class=\"head\"><a href=\"https://www.geeksforgeeks.org/spectral-co-clustering-algorithm-in-scikit-learn/\" rel=\"bookmark\" title=\"Permalink to Spectral Co-Clustering Algorithm in Scikit Learn\">Spectral Co-Clustering Algorithm in Scikit Learn</a></div>, <div class=\"head\"><a href=\"https://www.geeksforgeeks.org/what-is-the-subject-of-a-sentence/\" rel=\"bookmark\" title=\"Permalink to What is Subject? – Definition, Use and Examples\">What is Subject? – Definition, Use and Examples</a></div>, <div class=\"head\"><a href=\"https://www.geeksforgeeks.org/gray-vs-grey/\" rel=\"bookmark\" title=\"Permalink to ‘Gray’ vs. ‘Grey’- Why is Grey Spelled Two Ways?\">‘Gray’ vs. ‘Grey’- Why is Grey Spelled Two Ways?</a></div>, <div class=\"head\"><a href=\"https://www.geeksforgeeks.org/common-noun/\" rel=\"bookmark\" title=\"Permalink to Common Noun: Definition, Examples, List &amp; Usage\">Common Noun: Definition, Examples, List &amp; Usage</a></div>, <div class=\"head\"><a href=\"https://www.geeksforgeeks.org/count-number-of-0s-with-given-conditions/\" rel=\"bookmark\" title=\"Permalink to Count number of 0’s with given conditions\">Count number of 0’s with given conditions</a></div>, <div class=\"head\"><a href=\"https://www.geeksforgeeks.org/autumnal-equinoxs/\" rel=\"bookmark\" title=\"Permalink to Autumnal Equinox: Definition, Dates &amp; Facts\">Autumnal Equinox: Definition, Dates &amp; Facts</a></div>, <div class=\"head\"><a href=\"https://www.geeksforgeeks.org/imperialism/\" rel=\"bookmark\" title=\"Permalink to Imperialism: Definition, History, Types, &amp; Examples\">Imperialism: Definition, History, Types, &amp; Examples</a></div>, <div class=\"head\"><a href=\"https://www.geeksforgeeks.org/foods-high-in-magnesium/\" rel=\"bookmark\" title=\"Permalink to 10 Magnesium-Rich Foods that are Super Healthy\">10 Magnesium-Rich Foods that are Super Healthy</a></div>, <div class=\"head\"><a href=\"https://www.geeksforgeeks.org/how-to-setup-tailwind-css-with-vite/\" rel=\"bookmark\" title=\"Permalink to How to setup Tailwind-CSS with Vite ?\">How to setup Tailwind-CSS with Vite ?</a></div>, <div class=\"head\"><a href=\"https://www.geeksforgeeks.org/cbse-business-studies-question-paper-2020-set-1/\" rel=\"bookmark\" title=\"Permalink to CBSE Class 12 Business Studies Solved Question Paper- 2020 Set 1\">CBSE Class 12 Business Studies Solved Question Paper- 2020 Set 1</a></div>, <div class=\"head\"><a href=\"https://www.geeksforgeeks.org/minimum-time-required-by-n-cars-to-travel-through-all-of-the-m-roads/\" rel=\"bookmark\" title=\"Permalink to Minimum time required by n cars to travel through all of the m roads\">Minimum time required by n cars to travel through all of the m roads</a></div>, <div class=\"head\"><a href=\"https://www.geeksforgeeks.org/accenture-interview-experience-on-campus-2023-4/\" rel=\"bookmark\" title=\"Permalink to Accenture Interview Experience (On-Campus) 2023\">Accenture Interview Experience (On-Campus) 2023</a></div>, <div class=\"head\"><a href=\"https://www.geeksforgeeks.org/vyn-automation-pvt-ltd-interview-experience-for-system-analyst/\" rel=\"bookmark\" title=\"Permalink to VYN Automation Pvt. Ltd. Interview Experience for System Analyst\">VYN Automation Pvt. Ltd. Interview Experience for System Analyst</a></div>, <div class=\"head\">DSA- Live Classes</div>, <div class=\"head\">System Design- Live Classes</div>, <div class=\"head\">Complete Data Science Program</div>]\n"
     ]
    }
   ],
   "source": [
    "import requests\n",
    "from bs4 import BeautifulSoup as bs\n",
    "\n",
    "URL = 'https://www.geeksforgeeks.org/page/'\n",
    "\n",
    "for page in range(1,10):\n",
    "    # pls note that the total number of\n",
    "    # pages in the website is more than 5000 so i'm only taking the\n",
    "    # first 10 as this is just an example\n",
    "\n",
    "    req = requests.get(URL + str(page) + '/')\n",
    "    soup = bs(req.text, 'html.parser')\n",
    "\n",
    "    titles = soup.find_all('div',attrs={'class','head'})\n",
    "    print(titles)\n",
    "    \n",
    "#     for i in range(4,19):\n",
    "#         if page>1:\n",
    "#             print(f\"{(i-3)+page*15}\" + titles[i].text)\n",
    "#         else:\n",
    "#             print(f\"{i-3}\" + titles[i].text)\n"
   ]
  },
  {
   "cell_type": "code",
   "execution_count": 189,
   "id": "e6f1b8c9",
   "metadata": {},
   "outputs": [
    {
     "data": {
      "text/plain": [
       "[<div class=\"head\">How to Create a BarChart in Android using Kotlin</div>,\n",
       " <div class=\"head\">How much Python is required to become a Data Analyst</div>,\n",
       " <div class=\"head\">5 things I wish I knew as an Android Developer</div>,\n",
       " <div class=\"head\">Make a Resolution with GeeksforGeeks | 7th - 10th Jan</div>,\n",
       " <div class=\"head\">Building a 1000+ Cr Startup</div>,\n",
       " <div class=\"head\">C, C++, Java or Python. Which is Best for College Placements?</div>,\n",
       " <div class=\"head\">Best Way to Master Spring Boot - Complete Roadmap 2023</div>,\n",
       " <div class=\"head\">Python program to count number of connected components in an undirected graph</div>,\n",
       " <div class=\"head\">What is Moonlighting? Is it legal?</div>,\n",
       " <div class=\"head\">How to Fix 'Could not find or Load main class error' in Java?</div>,\n",
       " <div class=\"head\"><a href=\"https://www.geeksforgeeks.org/visualize-the-flower-dataset-using-tensorflow-python/\" rel=\"bookmark\" title=\"Permalink to Visualize the Flower Dataset using Tensorflow – Python\">Visualize the Flower Dataset using Tensorflow – Python</a></div>,\n",
       " <div class=\"head\"><a href=\"https://www.geeksforgeeks.org/recognizing-handwritten-digits-in-scikit-learn/\" rel=\"bookmark\" title=\"Permalink to Recognizing HandWritten Digits in Scikit Learn\">Recognizing HandWritten Digits in Scikit Learn</a></div>,\n",
       " <div class=\"head\"><a href=\"https://www.geeksforgeeks.org/spectral-co-clustering-algorithm-in-scikit-learn/\" rel=\"bookmark\" title=\"Permalink to Spectral Co-Clustering Algorithm in Scikit Learn\">Spectral Co-Clustering Algorithm in Scikit Learn</a></div>,\n",
       " <div class=\"head\"><a href=\"https://www.geeksforgeeks.org/what-is-the-subject-of-a-sentence/\" rel=\"bookmark\" title=\"Permalink to What is Subject? – Definition, Use and Examples\">What is Subject? – Definition, Use and Examples</a></div>,\n",
       " <div class=\"head\"><a href=\"https://www.geeksforgeeks.org/gray-vs-grey/\" rel=\"bookmark\" title=\"Permalink to ‘Gray’ vs. ‘Grey’- Why is Grey Spelled Two Ways?\">‘Gray’ vs. ‘Grey’- Why is Grey Spelled Two Ways?</a></div>,\n",
       " <div class=\"head\"><a href=\"https://www.geeksforgeeks.org/common-noun/\" rel=\"bookmark\" title=\"Permalink to Common Noun: Definition, Examples, List &amp; Usage\">Common Noun: Definition, Examples, List &amp; Usage</a></div>,\n",
       " <div class=\"head\"><a href=\"https://www.geeksforgeeks.org/count-number-of-0s-with-given-conditions/\" rel=\"bookmark\" title=\"Permalink to Count number of 0’s with given conditions\">Count number of 0’s with given conditions</a></div>,\n",
       " <div class=\"head\"><a href=\"https://www.geeksforgeeks.org/autumnal-equinoxs/\" rel=\"bookmark\" title=\"Permalink to Autumnal Equinox: Definition, Dates &amp; Facts\">Autumnal Equinox: Definition, Dates &amp; Facts</a></div>,\n",
       " <div class=\"head\"><a href=\"https://www.geeksforgeeks.org/imperialism/\" rel=\"bookmark\" title=\"Permalink to Imperialism: Definition, History, Types, &amp; Examples\">Imperialism: Definition, History, Types, &amp; Examples</a></div>,\n",
       " <div class=\"head\"><a href=\"https://www.geeksforgeeks.org/foods-high-in-magnesium/\" rel=\"bookmark\" title=\"Permalink to 10 Magnesium-Rich Foods that are Super Healthy\">10 Magnesium-Rich Foods that are Super Healthy</a></div>,\n",
       " <div class=\"head\"><a href=\"https://www.geeksforgeeks.org/how-to-setup-tailwind-css-with-vite/\" rel=\"bookmark\" title=\"Permalink to How to setup Tailwind-CSS with Vite ?\">How to setup Tailwind-CSS with Vite ?</a></div>,\n",
       " <div class=\"head\"><a href=\"https://www.geeksforgeeks.org/cbse-business-studies-question-paper-2020-set-1/\" rel=\"bookmark\" title=\"Permalink to CBSE Class 12 Business Studies Solved Question Paper- 2020 Set 1\">CBSE Class 12 Business Studies Solved Question Paper- 2020 Set 1</a></div>,\n",
       " <div class=\"head\"><a href=\"https://www.geeksforgeeks.org/minimum-time-required-by-n-cars-to-travel-through-all-of-the-m-roads/\" rel=\"bookmark\" title=\"Permalink to Minimum time required by n cars to travel through all of the m roads\">Minimum time required by n cars to travel through all of the m roads</a></div>,\n",
       " <div class=\"head\"><a href=\"https://www.geeksforgeeks.org/accenture-interview-experience-on-campus-2023-4/\" rel=\"bookmark\" title=\"Permalink to Accenture Interview Experience (On-Campus) 2023\">Accenture Interview Experience (On-Campus) 2023</a></div>,\n",
       " <div class=\"head\"><a href=\"https://www.geeksforgeeks.org/vyn-automation-pvt-ltd-interview-experience-for-system-analyst/\" rel=\"bookmark\" title=\"Permalink to VYN Automation Pvt. Ltd. Interview Experience for System Analyst\">VYN Automation Pvt. Ltd. Interview Experience for System Analyst</a></div>,\n",
       " <div class=\"head\">DSA- Live Classes</div>,\n",
       " <div class=\"head\">System Design- Live Classes</div>,\n",
       " <div class=\"head\">Complete Data Science Program</div>]"
      ]
     },
     "execution_count": 189,
     "metadata": {},
     "output_type": "execute_result"
    }
   ],
   "source": [
    "titles"
   ]
  },
  {
   "cell_type": "code",
   "execution_count": null,
   "id": "958e375d",
   "metadata": {},
   "outputs": [],
   "source": []
  }
 ],
 "metadata": {
  "kernelspec": {
   "display_name": "Python 3 (ipykernel)",
   "language": "python",
   "name": "python3"
  },
  "language_info": {
   "codemirror_mode": {
    "name": "ipython",
    "version": 3
   },
   "file_extension": ".py",
   "mimetype": "text/x-python",
   "name": "python",
   "nbconvert_exporter": "python",
   "pygments_lexer": "ipython3",
   "version": "3.10.5"
  }
 },
 "nbformat": 4,
 "nbformat_minor": 5
}
